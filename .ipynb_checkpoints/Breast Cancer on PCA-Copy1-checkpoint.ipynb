{
 "cells": [
  {
   "cell_type": "code",
   "execution_count": 225,
   "id": "4c360b63",
   "metadata": {},
   "outputs": [],
   "source": [
    "#Import all the required packages"
   ]
  },
  {
   "cell_type": "code",
   "execution_count": 238,
   "id": "cb937233",
   "metadata": {},
   "outputs": [],
   "source": [
    "#Pandas data is short for panel data that help to manipulate data in python\n",
    "import pandas as pd\n",
    "#Numpy is help to generate random numbers and do other many things\n",
    "import numpy as np\n",
    "#Preprocessing package from sklearn gives us functions for scaling the data before performing PCA\n",
    "from sklearn.preprocessing import StandardScaler\n",
    "#Use pyplot library as plt for the ploting data as graphs\n",
    "import matplotlib.pyplot as plt "
   ]
  },
  {
   "cell_type": "code",
   "execution_count": 239,
   "id": "101eff1e",
   "metadata": {},
   "outputs": [],
   "source": [
    "#Import the Bread Cancer dataset"
   ]
  },
  {
   "cell_type": "code",
   "execution_count": 240,
   "id": "8bda0c80",
   "metadata": {},
   "outputs": [],
   "source": [
    "data = pd.read_csv(\"datafile.csv\")"
   ]
  },
  {
   "cell_type": "code",
   "execution_count": 229,
   "id": "a0f858c6",
   "metadata": {},
   "outputs": [],
   "source": [
    "#Add feature columns headings to the dataset"
   ]
  },
  {
   "cell_type": "code",
   "execution_count": 230,
   "id": "e7e3e789",
   "metadata": {},
   "outputs": [],
   "source": [
    "#data.columns = [ \"Sample code number\",\"Clump Thickness\" ,\"Uniformity of Cell Size\",\"Uniformity of Cell Shape\",\"Marginal Adhesion\",\"Single Epithelial Cell Size\",\"Bare Nuclei\",\"Bland Chromatin\",\"Normal Nucleoli\",\"Mitoses\",\"Class\"]"
   ]
  },
  {
   "cell_type": "code",
   "execution_count": 231,
   "id": "957803f6",
   "metadata": {},
   "outputs": [],
   "source": [
    "#Store new data set and load the new data set as data.csv file"
   ]
  },
  {
   "cell_type": "code",
   "execution_count": 232,
   "id": "494e3bf4",
   "metadata": {},
   "outputs": [],
   "source": [
    "#data.to_csv(\"data.csv\",index=None,header=True)"
   ]
  },
  {
   "cell_type": "code",
   "execution_count": 236,
   "id": "81b137ec",
   "metadata": {},
   "outputs": [],
   "source": [
    "#df = pd.read_csv(\"data.csv\")\n",
    "#print(df)"
   ]
  },
  {
   "cell_type": "code",
   "execution_count": 203,
   "id": "7ab47301",
   "metadata": {},
   "outputs": [],
   "source": [
    "#Read the new dataset file and read it"
   ]
  },
  {
   "cell_type": "code",
   "execution_count": 204,
   "id": "7ba34376",
   "metadata": {},
   "outputs": [],
   "source": [
    "#df = pd.read_csv(\"data.csv\")\n",
    "#print(df)"
   ]
  },
  {
   "cell_type": "code",
   "execution_count": 205,
   "id": "4e2d534d",
   "metadata": {},
   "outputs": [],
   "source": [
    "#Get first 5 values in the table"
   ]
  },
  {
   "cell_type": "code",
   "execution_count": 242,
   "id": "4831679f",
   "metadata": {},
   "outputs": [
    {
     "data": {
      "text/html": [
       "<div>\n",
       "<style scoped>\n",
       "    .dataframe tbody tr th:only-of-type {\n",
       "        vertical-align: middle;\n",
       "    }\n",
       "\n",
       "    .dataframe tbody tr th {\n",
       "        vertical-align: top;\n",
       "    }\n",
       "\n",
       "    .dataframe thead th {\n",
       "        text-align: right;\n",
       "    }\n",
       "</style>\n",
       "<table border=\"1\" class=\"dataframe\">\n",
       "  <thead>\n",
       "    <tr style=\"text-align: right;\">\n",
       "      <th></th>\n",
       "      <th>Sample code number</th>\n",
       "      <th>Clump Thickness</th>\n",
       "      <th>Uniformity of Cell Size</th>\n",
       "      <th>Uniformity of Cell Shape</th>\n",
       "      <th>Marginal Adhesion</th>\n",
       "      <th>Single Epithelial Cell Size</th>\n",
       "      <th>Bare Nuclei</th>\n",
       "      <th>Bland Chromatin</th>\n",
       "      <th>Normal Nucleoli</th>\n",
       "      <th>Mitoses</th>\n",
       "      <th>Class</th>\n",
       "    </tr>\n",
       "  </thead>\n",
       "  <tbody>\n",
       "    <tr>\n",
       "      <th>0</th>\n",
       "      <td>1000025</td>\n",
       "      <td>5</td>\n",
       "      <td>1</td>\n",
       "      <td>1</td>\n",
       "      <td>1</td>\n",
       "      <td>2</td>\n",
       "      <td>1</td>\n",
       "      <td>3</td>\n",
       "      <td>1</td>\n",
       "      <td>1</td>\n",
       "      <td>2</td>\n",
       "    </tr>\n",
       "    <tr>\n",
       "      <th>1</th>\n",
       "      <td>1002945</td>\n",
       "      <td>5</td>\n",
       "      <td>4</td>\n",
       "      <td>4</td>\n",
       "      <td>5</td>\n",
       "      <td>7</td>\n",
       "      <td>10</td>\n",
       "      <td>3</td>\n",
       "      <td>2</td>\n",
       "      <td>1</td>\n",
       "      <td>2</td>\n",
       "    </tr>\n",
       "    <tr>\n",
       "      <th>2</th>\n",
       "      <td>1015425</td>\n",
       "      <td>3</td>\n",
       "      <td>1</td>\n",
       "      <td>1</td>\n",
       "      <td>1</td>\n",
       "      <td>2</td>\n",
       "      <td>2</td>\n",
       "      <td>3</td>\n",
       "      <td>1</td>\n",
       "      <td>1</td>\n",
       "      <td>2</td>\n",
       "    </tr>\n",
       "    <tr>\n",
       "      <th>3</th>\n",
       "      <td>1016277</td>\n",
       "      <td>6</td>\n",
       "      <td>8</td>\n",
       "      <td>8</td>\n",
       "      <td>1</td>\n",
       "      <td>3</td>\n",
       "      <td>4</td>\n",
       "      <td>3</td>\n",
       "      <td>7</td>\n",
       "      <td>1</td>\n",
       "      <td>2</td>\n",
       "    </tr>\n",
       "    <tr>\n",
       "      <th>4</th>\n",
       "      <td>1017023</td>\n",
       "      <td>4</td>\n",
       "      <td>1</td>\n",
       "      <td>1</td>\n",
       "      <td>3</td>\n",
       "      <td>2</td>\n",
       "      <td>1</td>\n",
       "      <td>3</td>\n",
       "      <td>1</td>\n",
       "      <td>1</td>\n",
       "      <td>2</td>\n",
       "    </tr>\n",
       "  </tbody>\n",
       "</table>\n",
       "</div>"
      ],
      "text/plain": [
       "   Sample code number  Clump Thickness  Uniformity of Cell Size  \\\n",
       "0             1000025                5                        1   \n",
       "1             1002945                5                        4   \n",
       "2             1015425                3                        1   \n",
       "3             1016277                6                        8   \n",
       "4             1017023                4                        1   \n",
       "\n",
       "   Uniformity of Cell Shape  Marginal Adhesion  Single Epithelial Cell Size  \\\n",
       "0                         1                  1                            2   \n",
       "1                         4                  5                            7   \n",
       "2                         1                  1                            2   \n",
       "3                         8                  1                            3   \n",
       "4                         1                  3                            2   \n",
       "\n",
       "   Bare Nuclei  Bland Chromatin  Normal Nucleoli  Mitoses  Class  \n",
       "0            1                3                1        1      2  \n",
       "1           10                3                2        1      2  \n",
       "2            2                3                1        1      2  \n",
       "3            4                3                7        1      2  \n",
       "4            1                3                1        1      2  "
      ]
     },
     "execution_count": 242,
     "metadata": {},
     "output_type": "execute_result"
    }
   ],
   "source": [
    "data.head()"
   ]
  },
  {
   "cell_type": "code",
   "execution_count": 207,
   "id": "1ae549c0",
   "metadata": {},
   "outputs": [],
   "source": [
    "# remove the 1st attribute from the table"
   ]
  },
  {
   "cell_type": "code",
   "execution_count": 208,
   "id": "f9629481",
   "metadata": {},
   "outputs": [],
   "source": [
    "#df['Class'].replace(2, '-1',inplace=True)\n",
    "#df['Class'].replace(4, '+1',inplace=True)\n",
    "diag_map = {4: 1.0, 2: -1.0}\n",
    "df['Class'] = df['Class'].map(diag_map)\n",
    "\n",
    "df= df.drop(labels='Sample code number', axis=1)"
   ]
  },
  {
   "cell_type": "code",
   "execution_count": 209,
   "id": "26f644bf",
   "metadata": {},
   "outputs": [
    {
     "data": {
      "text/html": [
       "<div>\n",
       "<style scoped>\n",
       "    .dataframe tbody tr th:only-of-type {\n",
       "        vertical-align: middle;\n",
       "    }\n",
       "\n",
       "    .dataframe tbody tr th {\n",
       "        vertical-align: top;\n",
       "    }\n",
       "\n",
       "    .dataframe thead th {\n",
       "        text-align: right;\n",
       "    }\n",
       "</style>\n",
       "<table border=\"1\" class=\"dataframe\">\n",
       "  <thead>\n",
       "    <tr style=\"text-align: right;\">\n",
       "      <th></th>\n",
       "      <th>Clump Thickness</th>\n",
       "      <th>Uniformity of Cell Size</th>\n",
       "      <th>Uniformity of Cell Shape</th>\n",
       "      <th>Marginal Adhesion</th>\n",
       "      <th>Single Epithelial Cell Size</th>\n",
       "      <th>Bare Nuclei</th>\n",
       "      <th>Bland Chromatin</th>\n",
       "      <th>Normal Nucleoli</th>\n",
       "      <th>Mitoses</th>\n",
       "      <th>Class</th>\n",
       "    </tr>\n",
       "  </thead>\n",
       "  <tbody>\n",
       "    <tr>\n",
       "      <th>0</th>\n",
       "      <td>5</td>\n",
       "      <td>1</td>\n",
       "      <td>1</td>\n",
       "      <td>1</td>\n",
       "      <td>2</td>\n",
       "      <td>1</td>\n",
       "      <td>3</td>\n",
       "      <td>1</td>\n",
       "      <td>1</td>\n",
       "      <td>-1.0</td>\n",
       "    </tr>\n",
       "    <tr>\n",
       "      <th>1</th>\n",
       "      <td>5</td>\n",
       "      <td>4</td>\n",
       "      <td>4</td>\n",
       "      <td>5</td>\n",
       "      <td>7</td>\n",
       "      <td>10</td>\n",
       "      <td>3</td>\n",
       "      <td>2</td>\n",
       "      <td>1</td>\n",
       "      <td>-1.0</td>\n",
       "    </tr>\n",
       "    <tr>\n",
       "      <th>2</th>\n",
       "      <td>3</td>\n",
       "      <td>1</td>\n",
       "      <td>1</td>\n",
       "      <td>1</td>\n",
       "      <td>2</td>\n",
       "      <td>2</td>\n",
       "      <td>3</td>\n",
       "      <td>1</td>\n",
       "      <td>1</td>\n",
       "      <td>-1.0</td>\n",
       "    </tr>\n",
       "    <tr>\n",
       "      <th>3</th>\n",
       "      <td>6</td>\n",
       "      <td>8</td>\n",
       "      <td>8</td>\n",
       "      <td>1</td>\n",
       "      <td>3</td>\n",
       "      <td>4</td>\n",
       "      <td>3</td>\n",
       "      <td>7</td>\n",
       "      <td>1</td>\n",
       "      <td>-1.0</td>\n",
       "    </tr>\n",
       "    <tr>\n",
       "      <th>4</th>\n",
       "      <td>4</td>\n",
       "      <td>1</td>\n",
       "      <td>1</td>\n",
       "      <td>3</td>\n",
       "      <td>2</td>\n",
       "      <td>1</td>\n",
       "      <td>3</td>\n",
       "      <td>1</td>\n",
       "      <td>1</td>\n",
       "      <td>-1.0</td>\n",
       "    </tr>\n",
       "  </tbody>\n",
       "</table>\n",
       "</div>"
      ],
      "text/plain": [
       "   Clump Thickness  Uniformity of Cell Size  Uniformity of Cell Shape  \\\n",
       "0                5                        1                         1   \n",
       "1                5                        4                         4   \n",
       "2                3                        1                         1   \n",
       "3                6                        8                         8   \n",
       "4                4                        1                         1   \n",
       "\n",
       "   Marginal Adhesion  Single Epithelial Cell Size  Bare Nuclei  \\\n",
       "0                  1                            2            1   \n",
       "1                  5                            7           10   \n",
       "2                  1                            2            2   \n",
       "3                  1                            3            4   \n",
       "4                  3                            2            1   \n",
       "\n",
       "   Bland Chromatin  Normal Nucleoli  Mitoses  Class  \n",
       "0                3                1        1   -1.0  \n",
       "1                3                2        1   -1.0  \n",
       "2                3                1        1   -1.0  \n",
       "3                3                7        1   -1.0  \n",
       "4                3                1        1   -1.0  "
      ]
     },
     "execution_count": 209,
     "metadata": {},
     "output_type": "execute_result"
    }
   ],
   "source": [
    "df.head()"
   ]
  },
  {
   "cell_type": "code",
   "execution_count": 210,
   "id": "be186551",
   "metadata": {},
   "outputs": [],
   "source": [
    "#Get the value for the x any Y coordinates"
   ]
  },
  {
   "cell_type": "code",
   "execution_count": 211,
   "id": "8ca46352",
   "metadata": {},
   "outputs": [],
   "source": [
    "x = df.drop(labels='Class', axis=1).values\n",
    "y = df['Class'].values"
   ]
  },
  {
   "cell_type": "code",
   "execution_count": 212,
   "id": "61d42e0a",
   "metadata": {},
   "outputs": [
    {
     "name": "stdout",
     "output_type": "stream",
     "text": [
      "[-1. -1. -1. -1. -1.  1. -1. -1. -1. -1. -1. -1.  1. -1.  1.  1. -1. -1.\n",
      "  1. -1.  1.  1. -1.  1. -1.  1. -1. -1. -1. -1. -1. -1.  1. -1. -1. -1.\n",
      "  1. -1.  1.  1. -1.  1.  1.  1.  1. -1.  1. -1. -1.  1.  1.  1.  1.  1.\n",
      "  1.  1.  1.  1.  1.  1.  1. -1.  1.  1. -1.  1. -1.  1.  1. -1. -1.  1.\n",
      " -1.  1.  1. -1. -1. -1. -1. -1. -1. -1. -1. -1.  1.  1.  1.  1. -1. -1.\n",
      " -1. -1. -1. -1. -1. -1. -1. -1.  1.  1.  1.  1. -1.  1.  1.  1.  1.  1.\n",
      " -1.  1. -1.  1.  1.  1. -1. -1. -1.  1. -1. -1. -1. -1.  1.  1.  1. -1.\n",
      "  1. -1.  1. -1. -1. -1.  1. -1. -1. -1. -1. -1. -1. -1. -1. -1.  1. -1.\n",
      " -1. -1.  1. -1. -1.  1. -1.  1.  1. -1. -1.  1. -1. -1. -1.  1.  1. -1.\n",
      " -1. -1. -1. -1.  1.  1. -1. -1. -1. -1. -1.  1.  1.  1. -1.  1. -1.  1.\n",
      " -1. -1. -1.  1.  1. -1.  1.  1.  1. -1.  1.  1. -1. -1. -1. -1. -1. -1.\n",
      " -1. -1.  1.  1. -1. -1. -1.  1.  1. -1. -1. -1.  1.  1. -1.  1.  1.  1.\n",
      " -1. -1.  1. -1. -1.  1.  1.  1.  1. -1.  1.  1. -1.  1.  1.  1. -1.  1.\n",
      " -1. -1.  1.  1.  1.  1. -1. -1. -1. -1. -1. -1.  1.  1. -1. -1. -1.  1.\n",
      " -1.  1.  1.  1. -1. -1. -1. -1.  1.  1.  1.  1.  1. -1.  1.  1.  1. -1.\n",
      "  1. -1.  1.  1. -1. -1. -1. -1. -1.  1. -1. -1.  1.  1.  1.  1.  1. -1.\n",
      "  1.  1. -1. -1.  1.  1. -1.  1. -1. -1. -1.  1.  1. -1.  1. -1.  1.  1.\n",
      " -1. -1.  1. -1. -1. -1.  1. -1. -1. -1.  1.  1. -1. -1.  1. -1. -1.  1.\n",
      " -1. -1.  1. -1.  1.  1.  1. -1. -1.  1.  1. -1.  1. -1. -1.  1.  1. -1.\n",
      " -1. -1.  1. -1. -1. -1.  1.  1. -1. -1. -1.  1. -1. -1.  1.  1.  1.  1.\n",
      "  1.  1. -1. -1. -1. -1.  1.  1. -1. -1. -1. -1. -1. -1. -1. -1. -1. -1.\n",
      " -1. -1. -1.  1. -1. -1. -1. -1.  1. -1. -1. -1. -1.  1. -1. -1. -1. -1.\n",
      " -1. -1. -1. -1.  1. -1. -1. -1. -1. -1. -1. -1. -1. -1. -1. -1.  1. -1.\n",
      "  1. -1.  1. -1. -1. -1. -1.  1. -1. -1. -1.  1. -1.  1. -1. -1. -1. -1.\n",
      " -1. -1. -1.  1.  1. -1. -1. -1.  1. -1. -1. -1. -1. -1. -1. -1. -1.  1.\n",
      " -1. -1. -1.  1. -1.  1.  1.  1. -1. -1. -1. -1. -1. -1. -1.  1.  1.  1.\n",
      " -1. -1. -1. -1. -1. -1. -1. -1. -1. -1. -1.  1. -1. -1.  1.  1. -1. -1.\n",
      " -1.  1.  1.  1. -1.  1. -1.  1. -1. -1. -1. -1. -1. -1. -1. -1. -1. -1.\n",
      " -1. -1.  1. -1. -1. -1. -1. -1. -1. -1.  1.  1. -1. -1. -1.  1. -1. -1.\n",
      "  1.  1. -1. -1. -1. -1. -1. -1.  1. -1. -1. -1. -1. -1. -1. -1. -1. -1.\n",
      " -1. -1. -1. -1. -1. -1.  1. -1. -1.  1. -1. -1. -1. -1. -1. -1. -1. -1.\n",
      " -1. -1. -1. -1. -1. -1. -1.  1. -1. -1.  1.  1.  1.  1. -1. -1.  1. -1.\n",
      " -1. -1. -1. -1. -1.  1.  1. -1. -1. -1.  1. -1.  1. -1.  1.  1.  1. -1.\n",
      "  1. -1. -1. -1. -1. -1. -1. -1. -1.  1.  1.  1. -1. -1.  1. -1.  1.  1.\n",
      "  1. -1. -1. -1. -1. -1. -1. -1. -1. -1. -1. -1. -1. -1.  1. -1. -1. -1.\n",
      " -1. -1. -1.  1. -1. -1.  1. -1. -1. -1. -1. -1. -1. -1. -1. -1. -1. -1.\n",
      "  1. -1. -1. -1. -1. -1. -1. -1. -1. -1.  1. -1. -1. -1. -1. -1. -1. -1.\n",
      " -1. -1.  1.  1.  1. -1. -1. -1. -1. -1. -1. -1. -1. -1.  1.  1. -1. -1.\n",
      " -1. -1. -1. -1. -1. -1. -1.  1. -1. -1. -1. -1.  1.  1.  1.]\n"
     ]
    }
   ],
   "source": [
    "print(y)"
   ]
  },
  {
   "cell_type": "code",
   "execution_count": 213,
   "id": "e4bf2413",
   "metadata": {},
   "outputs": [],
   "source": [
    "#Print the number of columns and rows for each x any y coordiante have"
   ]
  },
  {
   "cell_type": "code",
   "execution_count": 214,
   "id": "4e6be698",
   "metadata": {},
   "outputs": [
    {
     "name": "stdout",
     "output_type": "stream",
     "text": [
      "(699, 9) (699,)\n"
     ]
    }
   ],
   "source": [
    "print(x.shape, y.shape)"
   ]
  },
  {
   "cell_type": "code",
   "execution_count": 215,
   "id": "9ba7c7ba",
   "metadata": {},
   "outputs": [],
   "source": [
    "#Implementation of PCA with a covariance Matrix\n",
    "#Define a class as convers_pca\n",
    "class convers_pca():\n",
    "  #initialize the number of components, eigen values and eigen vectors\n",
    "    def __init__(self, no_of_components):\n",
    "        self.no_of_components = no_of_components\n",
    "        self.eigen_values = None\n",
    "        self.eigen_vectors = None\n",
    "\n",
    "    # Generates the coordinates for a PCA graph bases on the mean and projection matrix data.\n",
    "    def transform(self, x):\n",
    "        return np.dot(x - self.mean, self.projection_matrix.T)\n",
    "    \n",
    "    #transform the sources back to the mixed data (apply mixing matrix).\n",
    "    def inverse_transform(self, x):\n",
    "        return np.dot(x, self.projection_matrix) + self.mean\n",
    "    \n",
    "    #Fit the data using self object and the train data x  array like sample that contains the number of samaples\n",
    "    def fit(self, x):\n",
    "        self.no_of_components = x.shape[1] if self.no_of_components is None else self.no_of_components\n",
    "        # Translate the dataset so it's centered around 0\n",
    "        self.mean = np.mean(x, axis=0)\n",
    "        \n",
    "        #Calculate the covariance matrix\n",
    "        cov_matrix = np.cov(x - self.mean, rowvar=False)\n",
    "        #eigendecomposition get through using the eigen vectors and eigen values from the covariance matrix\n",
    "        self.eigen_values, self.eigen_vectors = np.linalg.eig(cov_matrix)\n",
    "        #project data point onto selected eigen vector\n",
    "        self.eigen_vectors = self.eigen_vectors.T\n",
    "        \n",
    "        #Indirect sort along the given axis\n",
    "        self.sorted_components = np.argsort(self.eigen_values)[::-1]\n",
    "        \n",
    "        self.projection_matrix = self.eigen_vectors[self.sorted_components[:self.no_of_components]]\n",
    "\n",
    "        #This will show the amount of variance explained by each of the selected components\n",
    "        self.explained_variance = self.eigen_values[self.sorted_components]\n",
    "        #Percentage of variance explained by each selected array components\n",
    "        self.explained_variance_ratio = self.explained_variance / self.eigen_values.sum()"
   ]
  },
  {
   "cell_type": "code",
   "execution_count": 216,
   "id": "8c939e83",
   "metadata": {},
   "outputs": [],
   "source": [
    "#Standardization of x\n",
    "#remove the mean and scaling to unit variance using the standardscaler. It helps to rescaling feature vectors to all have the same scale\n",
    "std = StandardScaler()\n",
    "# From the fit_transorm, the training data will be  scale and help to scalaling parameters of that data\n",
    "transformed = StandardScaler().fit_transform(x)"
   ]
  },
  {
   "cell_type": "code",
   "execution_count": 217,
   "id": "7327f8d0",
   "metadata": {},
   "outputs": [],
   "source": [
    "#PCA with 2 components"
   ]
  },
  {
   "cell_type": "code",
   "execution_count": 218,
   "id": "45a2d5de",
   "metadata": {},
   "outputs": [],
   "source": [
    "pca = convers_pca(no_of_components=2)\n",
    "pca.fit(transformed)"
   ]
  },
  {
   "cell_type": "code",
   "execution_count": 219,
   "id": "cd1b45fa",
   "metadata": {},
   "outputs": [
    {
     "data": {
      "text/plain": [
       "array([[-0.30292446, -0.38127363, -0.37760282, -0.33292274, -0.33653384,\n",
       "        -0.33285064, -0.34597842, -0.33586575, -0.22998763],\n",
       "       [ 0.14728724,  0.04994886,  0.08532737,  0.04501348, -0.1633891 ,\n",
       "         0.24637458,  0.22997335, -0.02525521, -0.90861576],\n",
       "       [-0.00171985, -0.73632898,  0.66500091,  0.04612047,  0.06807047,\n",
       "        -0.07092611,  0.05811865, -0.01901354,  0.00774395],\n",
       "       [-0.86193801,  0.0207124 , -0.03317637,  0.41972041,  0.11175896,\n",
       "        -0.00913366,  0.19829425,  0.13438809, -0.09702428],\n",
       "       [-0.07974264,  0.20267222,  0.176675  , -0.46800847,  0.36301869,\n",
       "        -0.55271696, -0.0033783 ,  0.45696771, -0.23708563],\n",
       "       [ 0.07647456, -0.13753297, -0.10499726,  0.04604803, -0.68838416,\n",
       "        -0.13055944,  0.25734531,  0.62219668,  0.13348277],\n",
       "       [-0.24290868,  0.4391189 ,  0.58493756, -0.12290104, -0.45009176,\n",
       "         0.10967743, -0.41000684, -0.07981509,  0.04272658],\n",
       "       [ 0.26773717,  0.12149144,  0.05060655,  0.67131862, -0.05203136,\n",
       "        -0.60469376, -0.25652337, -0.09793341, -0.12872425],\n",
       "       [ 0.02660985, -0.20481512, -0.14091492,  0.14804802,  0.17882994,\n",
       "         0.3509567 , -0.69610698,  0.50618683, -0.14009519]])"
      ]
     },
     "execution_count": 219,
     "metadata": {},
     "output_type": "execute_result"
    }
   ],
   "source": [
    "#Check eigenvectors:\n",
    "pca.eigen_vectors"
   ]
  },
  {
   "cell_type": "code",
   "execution_count": 220,
   "id": "ea8f8424",
   "metadata": {},
   "outputs": [
    {
     "data": {
      "text/plain": [
       "array([5.89550882, 0.77524353, 0.089039  , 0.53961267, 0.4685087 ,\n",
       "       0.38135328, 0.2621991 , 0.30460153, 0.29682735])"
      ]
     },
     "execution_count": 220,
     "metadata": {},
     "output_type": "execute_result"
    }
   ],
   "source": [
    "#Check eigenvalues\n",
    "pca.eigen_values"
   ]
  },
  {
   "cell_type": "code",
   "execution_count": 221,
   "id": "8ed5abbe",
   "metadata": {},
   "outputs": [
    {
     "data": {
      "text/plain": [
       "array([0, 1, 3, 4, 5, 7, 8, 6, 2], dtype=int64)"
      ]
     },
     "execution_count": 221,
     "metadata": {},
     "output_type": "execute_result"
    }
   ],
   "source": [
    "#Check sorted component\n",
    "pca.sorted_components"
   ]
  },
  {
   "cell_type": "code",
   "execution_count": 193,
   "id": "77dc5bb2",
   "metadata": {
    "scrolled": true
   },
   "outputs": [
    {
     "data": {
      "text/plain": [
       "<matplotlib.collections.PathCollection at 0x28c8b6e6710>"
      ]
     },
     "execution_count": 193,
     "metadata": {},
     "output_type": "execute_result"
    },
    {
     "data": {
      "text/plain": [
       "<Figure size 432x288 with 0 Axes>"
      ]
     },
     "metadata": {},
     "output_type": "display_data"
    },
    {
     "data": {
      "image/png": "[encoded data removed]",
      "text/plain": [
       "<Figure size 432x288 with 1 Axes>"
      ]
     },
     "metadata": {
      "needs_background": "light"
     },
     "output_type": "display_data"
    }
   ],
   "source": [
    "#transform method use the same mean and variance as it is calculated from the training data to transform the test data. \n",
    "x_std = pca.transform(transformed)\n",
    "plt.figure()\n",
    "plt.figure(figsize=(6, 4))\n",
    "plt.xticks(fontsize=5)\n",
    "plt.yticks(fontsize=5)\n",
    "plt.xlabel('Principal Component - 1',fontsize=10)\n",
    "plt.ylabel('Principal Component - 2',fontsize=10)\n",
    "plt.title(\"Principal Component Analysis of Breast Cancer Dataset\",fontsize=15, pad=15)\n",
    "## Plot data points using their class\n",
    "plt.scatter(x_std[:, 0], x_std[:, 1], c=y)\n"
   ]
  },
  {
   "cell_type": "code",
   "execution_count": 222,
   "id": "dac54261",
   "metadata": {},
   "outputs": [
    {
     "data": {
      "text/plain": [
       "<matplotlib.collections.PathCollection at 0x28c8b7eef98>"
      ]
     },
     "execution_count": 222,
     "metadata": {},
     "output_type": "execute_result"
    },
    {
     "data": {
      "image/png": "[encoded data removed]",
      "text/plain": [
       "<Figure size 432x288 with 1 Axes>"
      ]
     },
     "metadata": {
      "needs_background": "light"
     },
     "output_type": "display_data"
    }
   ],
   "source": [
    "x_std = pca.transform(transformed)\n",
    "\n",
    "plt.figure()\n",
    "plt.scatter(x_std[:, 0], x_std[:, 1], c=y)"
   ]
  },
  {
   "cell_type": "code",
   "execution_count": null,
   "id": "9f70f73b",
   "metadata": {},
   "outputs": [],
   "source": []
  }
 ],
 "metadata": {
  "kernelspec": {
   "display_name": "Python 3",
   "language": "python",
   "name": "python3"
  },
  "language_info": {
   "codemirror_mode": {
    "name": "ipython",
    "version": 3
   },
   "file_extension": ".py",
   "mimetype": "text/x-python",
   "name": "python",
   "nbconvert_exporter": "python",
   "pygments_lexer": "ipython3",
   "version": "3.6.8"
  }
 },
 "nbformat": 4,
 "nbformat_minor": 5
}
