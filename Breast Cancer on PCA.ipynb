{
 "cells": [
  {
   "cell_type": "code",
   "execution_count": 678,
   "id": "4c360b63",
   "metadata": {},
   "outputs": [],
   "source": [
    "#Import all the required packages"
   ]
  },
  {
   "cell_type": "code",
   "execution_count": 679,
   "id": "cb937233",
   "metadata": {},
   "outputs": [],
   "source": [
    "#Pandas data is short for panel data that help to manipulate data in python\n",
    "import pandas as pd\n",
    "#Numpy is help to generate random numbers and do other many things\n",
    "import numpy as np\n",
    "#Preprocessing package from sklearn gives us functions for scaling the data before performing PCA\n",
    "from sklearn.preprocessing import StandardScaler\n",
    "#Use pyplot library as plt for the ploting data as graphs\n",
    "import matplotlib.pyplot as plt "
   ]
  },
  {
   "cell_type": "code",
   "execution_count": 680,
   "id": "101eff1e",
   "metadata": {},
   "outputs": [],
   "source": [
    "#Import the Bread Cancer dataset"
   ]
  },
  {
   "cell_type": "code",
   "execution_count": 681,
   "id": "8bda0c80",
   "metadata": {},
   "outputs": [],
   "source": [
    "data = pd.read_csv(\"datafile.csv\")"
   ]
  },
  {
   "cell_type": "code",
   "execution_count": 682,
   "id": "a0f858c6",
   "metadata": {},
   "outputs": [],
   "source": [
    "#Add feature columns headings to the dataset"
   ]
  },
  {
   "cell_type": "code",
   "execution_count": 683,
   "id": "e7e3e789",
   "metadata": {},
   "outputs": [],
   "source": [
    "data.columns = [ \"Sample code number\",\"Clump Thickness\" ,\"Uniformity of Cell Size\",\"Uniformity of Cell Shape\",\"Marginal Adhesion\",\"Single Epithelial Cell Size\",\"Bare Nuclei\",\"Bland Chromatin\",\"Normal Nucleoli\",\"Mitoses\",\"Class\"]"
   ]
  },
  {
   "cell_type": "code",
   "execution_count": 684,
   "id": "957803f6",
   "metadata": {},
   "outputs": [],
   "source": [
    "#Store new data set and load the new data set as data.csv file"
   ]
  },
  {
   "cell_type": "code",
   "execution_count": 685,
   "id": "494e3bf4",
   "metadata": {},
   "outputs": [],
   "source": [
    "data.to_csv(\"data.csv\",index=None,header=True)"
   ]
  },
  {
   "cell_type": "code",
   "execution_count": 686,
   "id": "7ab47301",
   "metadata": {},
   "outputs": [],
   "source": [
    "#Read the new dataset file and read it"
   ]
  },
  {
   "cell_type": "code",
   "execution_count": 687,
   "id": "7ba34376",
   "metadata": {},
   "outputs": [
    {
     "name": "stdout",
     "output_type": "stream",
     "text": [
      "     Sample code number  Clump Thickness  Uniformity of Cell Size  \\\n",
      "0               1002945                5                        4   \n",
      "1               1015425                3                        1   \n",
      "2               1016277                6                        8   \n",
      "3               1017023                4                        1   \n",
      "4               1017122                8                       10   \n",
      "..                  ...              ...                      ...   \n",
      "693              776715                3                        1   \n",
      "694              841769                2                        1   \n",
      "695              888820                5                       10   \n",
      "696              897471                4                        8   \n",
      "697              897471                4                        8   \n",
      "\n",
      "     Uniformity of Cell Shape  Marginal Adhesion  Single Epithelial Cell Size  \\\n",
      "0                           4                  5                            7   \n",
      "1                           1                  1                            2   \n",
      "2                           8                  1                            3   \n",
      "3                           1                  3                            2   \n",
      "4                          10                  8                            7   \n",
      "..                        ...                ...                          ...   \n",
      "693                         1                  1                            3   \n",
      "694                         1                  1                            2   \n",
      "695                        10                  3                            7   \n",
      "696                         6                  4                            3   \n",
      "697                         8                  5                            4   \n",
      "\n",
      "     Bare Nuclei  Bland Chromatin  Normal Nucleoli  Mitoses  Class  \n",
      "0             10                3                2        1      2  \n",
      "1              2                3                1        1      2  \n",
      "2              4                3                7        1      2  \n",
      "3              1                3                1        1      2  \n",
      "4             10                9                7        1      4  \n",
      "..           ...              ...              ...      ...    ...  \n",
      "693            2                1                1        1      2  \n",
      "694            1                1                1        1      2  \n",
      "695            3                8               10        2      4  \n",
      "696            4               10                6        1      4  \n",
      "697            5               10                4        1      4  \n",
      "\n",
      "[698 rows x 11 columns]\n"
     ]
    }
   ],
   "source": [
    "df = pd.read_csv(\"data.csv\")\n",
    "print(df)"
   ]
  },
  {
   "cell_type": "code",
   "execution_count": 688,
   "id": "4e2d534d",
   "metadata": {},
   "outputs": [],
   "source": [
    "#Get first 5 values in the table"
   ]
  },
  {
   "cell_type": "code",
   "execution_count": 689,
   "id": "4831679f",
   "metadata": {},
   "outputs": [
    {
     "data": {
      "text/html": [
       "<div>\n",
       "<style scoped>\n",
       "    .dataframe tbody tr th:only-of-type {\n",
       "        vertical-align: middle;\n",
       "    }\n",
       "\n",
       "    .dataframe tbody tr th {\n",
       "        vertical-align: top;\n",
       "    }\n",
       "\n",
       "    .dataframe thead th {\n",
       "        text-align: right;\n",
       "    }\n",
       "</style>\n",
       "<table border=\"1\" class=\"dataframe\">\n",
       "  <thead>\n",
       "    <tr style=\"text-align: right;\">\n",
       "      <th></th>\n",
       "      <th>Sample code number</th>\n",
       "      <th>Clump Thickness</th>\n",
       "      <th>Uniformity of Cell Size</th>\n",
       "      <th>Uniformity of Cell Shape</th>\n",
       "      <th>Marginal Adhesion</th>\n",
       "      <th>Single Epithelial Cell Size</th>\n",
       "      <th>Bare Nuclei</th>\n",
       "      <th>Bland Chromatin</th>\n",
       "      <th>Normal Nucleoli</th>\n",
       "      <th>Mitoses</th>\n",
       "      <th>Class</th>\n",
       "    </tr>\n",
       "  </thead>\n",
       "  <tbody>\n",
       "    <tr>\n",
       "      <th>0</th>\n",
       "      <td>1002945</td>\n",
       "      <td>5</td>\n",
       "      <td>4</td>\n",
       "      <td>4</td>\n",
       "      <td>5</td>\n",
       "      <td>7</td>\n",
       "      <td>10</td>\n",
       "      <td>3</td>\n",
       "      <td>2</td>\n",
       "      <td>1</td>\n",
       "      <td>2</td>\n",
       "    </tr>\n",
       "    <tr>\n",
       "      <th>1</th>\n",
       "      <td>1015425</td>\n",
       "      <td>3</td>\n",
       "      <td>1</td>\n",
       "      <td>1</td>\n",
       "      <td>1</td>\n",
       "      <td>2</td>\n",
       "      <td>2</td>\n",
       "      <td>3</td>\n",
       "      <td>1</td>\n",
       "      <td>1</td>\n",
       "      <td>2</td>\n",
       "    </tr>\n",
       "    <tr>\n",
       "      <th>2</th>\n",
       "      <td>1016277</td>\n",
       "      <td>6</td>\n",
       "      <td>8</td>\n",
       "      <td>8</td>\n",
       "      <td>1</td>\n",
       "      <td>3</td>\n",
       "      <td>4</td>\n",
       "      <td>3</td>\n",
       "      <td>7</td>\n",
       "      <td>1</td>\n",
       "      <td>2</td>\n",
       "    </tr>\n",
       "    <tr>\n",
       "      <th>3</th>\n",
       "      <td>1017023</td>\n",
       "      <td>4</td>\n",
       "      <td>1</td>\n",
       "      <td>1</td>\n",
       "      <td>3</td>\n",
       "      <td>2</td>\n",
       "      <td>1</td>\n",
       "      <td>3</td>\n",
       "      <td>1</td>\n",
       "      <td>1</td>\n",
       "      <td>2</td>\n",
       "    </tr>\n",
       "    <tr>\n",
       "      <th>4</th>\n",
       "      <td>1017122</td>\n",
       "      <td>8</td>\n",
       "      <td>10</td>\n",
       "      <td>10</td>\n",
       "      <td>8</td>\n",
       "      <td>7</td>\n",
       "      <td>10</td>\n",
       "      <td>9</td>\n",
       "      <td>7</td>\n",
       "      <td>1</td>\n",
       "      <td>4</td>\n",
       "    </tr>\n",
       "  </tbody>\n",
       "</table>\n",
       "</div>"
      ],
      "text/plain": [
       "   Sample code number  Clump Thickness  Uniformity of Cell Size  \\\n",
       "0             1002945                5                        4   \n",
       "1             1015425                3                        1   \n",
       "2             1016277                6                        8   \n",
       "3             1017023                4                        1   \n",
       "4             1017122                8                       10   \n",
       "\n",
       "   Uniformity of Cell Shape  Marginal Adhesion  Single Epithelial Cell Size  \\\n",
       "0                         4                  5                            7   \n",
       "1                         1                  1                            2   \n",
       "2                         8                  1                            3   \n",
       "3                         1                  3                            2   \n",
       "4                        10                  8                            7   \n",
       "\n",
       "   Bare Nuclei  Bland Chromatin  Normal Nucleoli  Mitoses  Class  \n",
       "0           10                3                2        1      2  \n",
       "1            2                3                1        1      2  \n",
       "2            4                3                7        1      2  \n",
       "3            1                3                1        1      2  \n",
       "4           10                9                7        1      4  "
      ]
     },
     "execution_count": 689,
     "metadata": {},
     "output_type": "execute_result"
    }
   ],
   "source": [
    "df.head()"
   ]
  },
  {
   "cell_type": "code",
   "execution_count": 690,
   "id": "1ae549c0",
   "metadata": {},
   "outputs": [],
   "source": [
    "# remove the 1st attribute from the table"
   ]
  },
  {
   "cell_type": "code",
   "execution_count": 691,
   "id": "f9629481",
   "metadata": {},
   "outputs": [],
   "source": [
    "#df['Class'].replace(2, '-1',inplace=True)\n",
    "#df['Class'].replace(4, '+1',inplace=True)\n",
    "df= df.drop(labels='Sample code number', axis=1)"
   ]
  },
  {
   "cell_type": "code",
   "execution_count": 692,
   "id": "26f644bf",
   "metadata": {},
   "outputs": [
    {
     "data": {
      "text/html": [
       "<div>\n",
       "<style scoped>\n",
       "    .dataframe tbody tr th:only-of-type {\n",
       "        vertical-align: middle;\n",
       "    }\n",
       "\n",
       "    .dataframe tbody tr th {\n",
       "        vertical-align: top;\n",
       "    }\n",
       "\n",
       "    .dataframe thead th {\n",
       "        text-align: right;\n",
       "    }\n",
       "</style>\n",
       "<table border=\"1\" class=\"dataframe\">\n",
       "  <thead>\n",
       "    <tr style=\"text-align: right;\">\n",
       "      <th></th>\n",
       "      <th>Clump Thickness</th>\n",
       "      <th>Uniformity of Cell Size</th>\n",
       "      <th>Uniformity of Cell Shape</th>\n",
       "      <th>Marginal Adhesion</th>\n",
       "      <th>Single Epithelial Cell Size</th>\n",
       "      <th>Bare Nuclei</th>\n",
       "      <th>Bland Chromatin</th>\n",
       "      <th>Normal Nucleoli</th>\n",
       "      <th>Mitoses</th>\n",
       "      <th>Class</th>\n",
       "    </tr>\n",
       "  </thead>\n",
       "  <tbody>\n",
       "    <tr>\n",
       "      <th>0</th>\n",
       "      <td>5</td>\n",
       "      <td>4</td>\n",
       "      <td>4</td>\n",
       "      <td>5</td>\n",
       "      <td>7</td>\n",
       "      <td>10</td>\n",
       "      <td>3</td>\n",
       "      <td>2</td>\n",
       "      <td>1</td>\n",
       "      <td>2</td>\n",
       "    </tr>\n",
       "    <tr>\n",
       "      <th>1</th>\n",
       "      <td>3</td>\n",
       "      <td>1</td>\n",
       "      <td>1</td>\n",
       "      <td>1</td>\n",
       "      <td>2</td>\n",
       "      <td>2</td>\n",
       "      <td>3</td>\n",
       "      <td>1</td>\n",
       "      <td>1</td>\n",
       "      <td>2</td>\n",
       "    </tr>\n",
       "    <tr>\n",
       "      <th>2</th>\n",
       "      <td>6</td>\n",
       "      <td>8</td>\n",
       "      <td>8</td>\n",
       "      <td>1</td>\n",
       "      <td>3</td>\n",
       "      <td>4</td>\n",
       "      <td>3</td>\n",
       "      <td>7</td>\n",
       "      <td>1</td>\n",
       "      <td>2</td>\n",
       "    </tr>\n",
       "    <tr>\n",
       "      <th>3</th>\n",
       "      <td>4</td>\n",
       "      <td>1</td>\n",
       "      <td>1</td>\n",
       "      <td>3</td>\n",
       "      <td>2</td>\n",
       "      <td>1</td>\n",
       "      <td>3</td>\n",
       "      <td>1</td>\n",
       "      <td>1</td>\n",
       "      <td>2</td>\n",
       "    </tr>\n",
       "    <tr>\n",
       "      <th>4</th>\n",
       "      <td>8</td>\n",
       "      <td>10</td>\n",
       "      <td>10</td>\n",
       "      <td>8</td>\n",
       "      <td>7</td>\n",
       "      <td>10</td>\n",
       "      <td>9</td>\n",
       "      <td>7</td>\n",
       "      <td>1</td>\n",
       "      <td>4</td>\n",
       "    </tr>\n",
       "  </tbody>\n",
       "</table>\n",
       "</div>"
      ],
      "text/plain": [
       "   Clump Thickness  Uniformity of Cell Size  Uniformity of Cell Shape  \\\n",
       "0                5                        4                         4   \n",
       "1                3                        1                         1   \n",
       "2                6                        8                         8   \n",
       "3                4                        1                         1   \n",
       "4                8                       10                        10   \n",
       "\n",
       "   Marginal Adhesion  Single Epithelial Cell Size  Bare Nuclei  \\\n",
       "0                  5                            7           10   \n",
       "1                  1                            2            2   \n",
       "2                  1                            3            4   \n",
       "3                  3                            2            1   \n",
       "4                  8                            7           10   \n",
       "\n",
       "   Bland Chromatin  Normal Nucleoli  Mitoses  Class  \n",
       "0                3                2        1      2  \n",
       "1                3                1        1      2  \n",
       "2                3                7        1      2  \n",
       "3                3                1        1      2  \n",
       "4                9                7        1      4  "
      ]
     },
     "execution_count": 692,
     "metadata": {},
     "output_type": "execute_result"
    }
   ],
   "source": [
    "df.head()"
   ]
  },
  {
   "cell_type": "code",
   "execution_count": 693,
   "id": "be186551",
   "metadata": {},
   "outputs": [],
   "source": [
    "#Get the value for the x any Y coordinates"
   ]
  },
  {
   "cell_type": "code",
   "execution_count": 694,
   "id": "8ca46352",
   "metadata": {},
   "outputs": [],
   "source": [
    "x = df.drop(labels='Class', axis=1).values\n",
    "y = df['Class'].values"
   ]
  },
  {
   "cell_type": "code",
   "execution_count": 695,
   "id": "61d42e0a",
   "metadata": {},
   "outputs": [
    {
     "name": "stdout",
     "output_type": "stream",
     "text": [
      "[2 2 2 2 4 2 2 2 2 2 2 4 2 4 4 2 2 4 2 4 4 2 4 2 4 2 2 2 2 2 2 4 2 2 2 4 2\n",
      " 4 4 2 4 4 4 4 2 4 2 2 4 4 4 4 4 4 4 4 4 4 4 4 2 4 4 2 4 2 4 4 2 2 4 2 4 4\n",
      " 2 2 2 2 2 2 2 2 2 4 4 4 4 2 2 2 2 2 2 2 2 2 2 4 4 4 4 2 4 4 4 4 4 2 4 2 4\n",
      " 4 4 2 2 2 4 2 2 2 2 4 4 4 2 4 2 4 2 2 2 4 2 2 2 2 2 2 2 2 2 4 2 2 2 4 2 2\n",
      " 4 2 4 4 2 2 4 2 2 2 4 4 2 2 2 2 2 4 4 2 2 2 2 2 4 4 4 2 4 2 4 2 2 2 4 4 2\n",
      " 4 4 4 2 4 4 2 2 2 2 2 2 2 2 4 4 2 2 2 4 4 2 2 2 4 4 2 4 4 4 2 2 4 2 2 4 4\n",
      " 4 4 2 4 4 2 4 4 4 2 4 2 2 4 4 4 4 2 2 2 2 2 2 4 4 2 2 2 4 2 4 4 4 2 2 2 2\n",
      " 4 4 4 4 4 2 4 4 4 2 4 2 4 4 2 2 2 2 2 4 2 2 4 4 4 4 4 2 4 4 2 2 4 4 2 4 2\n",
      " 2 2 4 4 2 4 2 4 4 2 2 4 2 2 2 4 2 2 2 4 4 2 2 4 2 2 4 2 2 4 2 4 4 4 2 2 4\n",
      " 4 2 4 2 2 4 4 2 2 2 4 2 2 2 4 4 2 2 2 4 2 2 4 4 4 4 4 4 2 2 2 2 4 4 2 2 2\n",
      " 2 2 2 2 2 2 2 2 2 2 4 2 2 2 2 4 2 2 2 2 4 2 2 2 2 2 2 2 2 4 2 2 2 2 2 2 2\n",
      " 2 2 2 2 4 2 4 2 4 2 2 2 2 4 2 2 2 4 2 4 2 2 2 2 2 2 2 4 4 2 2 2 4 2 2 2 2\n",
      " 2 2 2 2 4 2 2 2 4 2 4 4 4 2 2 2 2 2 2 2 4 4 4 2 2 2 2 2 2 2 2 2 2 2 4 2 2\n",
      " 4 4 2 2 2 4 4 4 2 4 2 4 2 2 2 2 2 2 2 2 2 2 2 2 4 2 2 2 2 2 2 2 4 4 2 2 2\n",
      " 4 2 2 4 4 2 2 2 2 2 2 4 2 2 2 2 2 2 2 2 2 2 2 2 2 2 2 4 2 2 4 2 2 2 2 2 2\n",
      " 2 2 2 2 2 2 2 2 2 4 2 2 4 4 4 4 2 2 4 2 2 2 2 2 2 4 4 2 2 2 4 2 4 2 4 4 4\n",
      " 2 4 2 2 2 2 2 2 2 2 4 4 4 2 2 4 2 4 4 4 2 2 2 2 2 2 2 2 2 2 2 2 2 4 2 2 2\n",
      " 2 2 2 4 2 2 4 2 2 2 2 2 2 2 2 2 2 2 4 2 2 2 2 2 2 2 2 2 4 2 2 2 2 2 2 2 2\n",
      " 2 4 4 4 2 2 2 2 2 2 2 2 2 4 4 2 2 2 2 2 2 2 2 2 4 2 2 2 2 4 4 4]\n"
     ]
    }
   ],
   "source": [
    "print(y)"
   ]
  },
  {
   "cell_type": "code",
   "execution_count": 696,
   "id": "e4bf2413",
   "metadata": {},
   "outputs": [],
   "source": [
    "#Print the number of columns and rows for each x any y coordiante have"
   ]
  },
  {
   "cell_type": "code",
   "execution_count": 697,
   "id": "4e6be698",
   "metadata": {},
   "outputs": [
    {
     "name": "stdout",
     "output_type": "stream",
     "text": [
      "(698, 9) (698,)\n"
     ]
    }
   ],
   "source": [
    "print(x.shape, y.shape)"
   ]
  },
  {
   "cell_type": "code",
   "execution_count": 698,
   "id": "9ba7c7ba",
   "metadata": {},
   "outputs": [],
   "source": [
    "#Implementation of PCA with a covariance Matrix\n",
    "#Define a class as convers_pca\n",
    "class convers_pca():\n",
    "  #initialize the number of components, eigen values and eigen vectors\n",
    "    def __init__(self, no_of_components):\n",
    "        self.no_of_components = no_of_components\n",
    "        self.eigen_values = None\n",
    "        self.eigen_vectors = None\n",
    "\n",
    "    # Generates the coordinates for a PCA graph bases on the mean and projection matrix data.\n",
    "    def transform(self, x):\n",
    "        return np.dot(x - self.mean, self.projection_matrix.T)\n",
    "    \n",
    "    #transform the sources back to the mixed data (apply mixing matrix).\n",
    "    def inverse_transform(self, x):\n",
    "        return np.dot(x, self.projection_matrix) + self.mean\n",
    "    \n",
    "    #Fit the data using self object and the train data x  array like sample that contains the number of samaples\n",
    "    def fit(self, x):\n",
    "        self.no_of_components = x.shape[1] if self.no_of_components is None else self.no_of_components\n",
    "        # Translate the dataset so it's centered around 0\n",
    "        self.mean = np.mean(x, axis=0)\n",
    "        \n",
    "        #Calculate the covariance matrix\n",
    "        cov_matrix = np.cov(x - self.mean, rowvar=False)\n",
    "        #eigendecomposition get through using the eigen vectors and eigen values from the covariance matrix\n",
    "        self.eigen_values, self.eigen_vectors = np.linalg.eig(cov_matrix)\n",
    "        #project data point onto selected eigen vector\n",
    "        self.eigen_vectors = self.eigen_vectors.T\n",
    "        \n",
    "        #Indirect sort along the given axis\n",
    "        self.sorted_components = np.argsort(self.eigen_values)[::-1]\n",
    "        \n",
    "        self.projection_matrix = self.eigen_vectors[self.sorted_components[:self.no_of_components]]\n",
    "\n",
    "        #This will show the amount of variance explained by each of the selected components\n",
    "        self.explained_variance = self.eigen_values[self.sorted_components]\n",
    "        #Percentage of variance explained by each selected array components\n",
    "        self.explained_variance_ratio = self.explained_variance / self.eigen_values.sum()"
   ]
  },
  {
   "cell_type": "code",
   "execution_count": 699,
   "id": "8c939e83",
   "metadata": {},
   "outputs": [],
   "source": [
    "#Standardization of x\n",
    "#remove the mean and scaling to unit variance using the standardscaler. It helps to rescaling feature vectors to all have the same scale\n",
    "std = StandardScaler()\n",
    "# From the fit_transorm, the training data will be  scale and help to scalaling parameters of that data\n",
    "transformed = StandardScaler().fit_transform(x)"
   ]
  },
  {
   "cell_type": "code",
   "execution_count": 700,
   "id": "7327f8d0",
   "metadata": {},
   "outputs": [],
   "source": [
    "#PCA with 2 components"
   ]
  },
  {
   "cell_type": "code",
   "execution_count": 701,
   "id": "45a2d5de",
   "metadata": {},
   "outputs": [],
   "source": [
    "pca = convers_pca(no_of_components=2)\n",
    "pca.fit(transformed)"
   ]
  },
  {
   "cell_type": "code",
   "execution_count": 702,
   "id": "cd1b45fa",
   "metadata": {},
   "outputs": [
    {
     "data": {
      "text/plain": [
       "array([[-0.30310067, -0.38126622, -0.3775959 , -0.33288234, -0.33650078,\n",
       "        -0.33281267, -0.34601646, -0.33582914, -0.22993715],\n",
       "       [ 0.14683851,  0.04996567,  0.08537547,  0.0451648 , -0.16344088,\n",
       "         0.24657009,  0.22983633, -0.02527518, -0.90864721],\n",
       "       [-0.86136892,  0.02018775, -0.0339872 ,  0.42048697,  0.1115004 ,\n",
       "        -0.00981834,  0.19953963,  0.13431518, -0.09636514],\n",
       "       [-0.00171461, -0.73635575,  0.66496409,  0.04612633,  0.0680928 ,\n",
       "        -0.07093334,  0.05815982, -0.01901694,  0.00774705],\n",
       "       [-0.08017631,  0.20271494,  0.17669502, -0.46772118,  0.36284351,\n",
       "        -0.55283289, -0.00309271,  0.45708292, -0.23723451],\n",
       "       [-0.07704427,  0.13752162,  0.10472673, -0.04578593,  0.68871358,\n",
       "         0.12979796, -0.25601287, -0.62255108, -0.13342268],\n",
       "       [ 0.24433503, -0.43763268, -0.58395989,  0.12218393,  0.44802018,\n",
       "        -0.11294782,  0.41442756,  0.07651006, -0.04191277],\n",
       "       [ 0.26796657,  0.12185142,  0.05125207,  0.67105396, -0.05271367,\n",
       "        -0.60426048, -0.25761227, -0.09774396, -0.12875764],\n",
       "       [ 0.02719065, -0.20769327, -0.14482834,  0.1486969 ,  0.1830375 ,\n",
       "         0.35064416, -0.6932408 ,  0.50623654, -0.1404488 ]])"
      ]
     },
     "execution_count": 702,
     "metadata": {},
     "output_type": "execute_result"
    }
   ],
   "source": [
    "#Check eigenvectors:\n",
    "pca.eigen_vectors"
   ]
  },
  {
   "cell_type": "code",
   "execution_count": 703,
   "id": "ea8f8424",
   "metadata": {},
   "outputs": [
    {
     "data": {
      "text/plain": [
       "array([5.89532862, 0.77538511, 0.53923205, 0.0891049 , 0.46877132,\n",
       "       0.38149275, 0.26206508, 0.30474987, 0.29678278])"
      ]
     },
     "execution_count": 703,
     "metadata": {},
     "output_type": "execute_result"
    }
   ],
   "source": [
    "#Check eigenvalues\n",
    "pca.eigen_values"
   ]
  },
  {
   "cell_type": "code",
   "execution_count": 704,
   "id": "8ed5abbe",
   "metadata": {},
   "outputs": [
    {
     "data": {
      "text/plain": [
       "array([0, 1, 2, 4, 5, 7, 8, 6, 3], dtype=int64)"
      ]
     },
     "execution_count": 704,
     "metadata": {},
     "output_type": "execute_result"
    }
   ],
   "source": [
    "#Check sorted component\n",
    "pca.sorted_components"
   ]
  },
  {
   "cell_type": "code",
   "execution_count": 705,
   "id": "77dc5bb2",
   "metadata": {
    "scrolled": true
   },
   "outputs": [
    {
     "data": {
      "text/plain": [
       "<matplotlib.collections.PathCollection at 0x22d6a88b860>"
      ]
     },
     "execution_count": 705,
     "metadata": {},
     "output_type": "execute_result"
    },
    {
     "data": {
      "text/plain": [
       "<Figure size 432x288 with 0 Axes>"
      ]
     },
     "metadata": {},
     "output_type": "display_data"
    },
    {
     "data": {
      "image/png": "[encoded data removed]",
      "text/plain": [
       "<Figure size 432x288 with 1 Axes>"
      ]
     },
     "metadata": {
      "needs_background": "light"
     },
     "output_type": "display_data"
    }
   ],
   "source": [
    "#transform method use the same mean and variance as it is calculated from the training data to transform the test data. \n",
    "x_std = pca.transform(transformed)\n",
    "plt.figure()\n",
    "plt.figure(figsize=(6, 4))\n",
    "plt.xticks(fontsize=3)\n",
    "plt.yticks(fontsize=3)\n",
    "plt.xlabel('Principal Component - 1',fontsize=10)\n",
    "plt.ylabel('Principal Component - 2',fontsize=10)\n",
    "plt.title(\"Principal Component Analysis of Breast Cancer Dataset\",fontsize=15, pad=15)\n",
    "## Plot data points using their class\n",
    "plt.scatter(x_std[:, 0], x_std[:, 1], c=y)\n"
   ]
  }
 ],
 "metadata": {
  "kernelspec": {
   "display_name": "Python 3",
   "language": "python",
   "name": "python3"
  },
  "language_info": {
   "codemirror_mode": {
    "name": "ipython",
    "version": 3
   },
   "file_extension": ".py",
   "mimetype": "text/x-python",
   "name": "python",
   "nbconvert_exporter": "python",
   "pygments_lexer": "ipython3",
   "version": "3.6.8"
  }
 },
 "nbformat": 4,
 "nbformat_minor": 5
}
